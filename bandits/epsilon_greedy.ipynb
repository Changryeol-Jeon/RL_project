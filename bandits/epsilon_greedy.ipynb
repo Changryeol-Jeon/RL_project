{
 "cells": [
  {
   "cell_type": "code",
   "execution_count": 21,
   "metadata": {},
   "outputs": [],
   "source": [
    "import numpy as np\n",
    "import pandas as pd\n",
    "import sys\n",
    "import matplotlib.pyplot as plt\n",
    "from utils import score\n",
    "import argparse\n",
    "import pdb"
   ]
  },
  {
   "cell_type": "code",
   "execution_count": 22,
   "metadata": {},
   "outputs": [],
   "source": [
    "import pandas as pd\n",
    "import numpy as np \n",
    "\n",
    "def read_data_20m():\n",
    "\tprint('reading movielens 20m data')\n",
    "\tratings = pd.read_csv('../data/ml-25m/ratings.csv', engine='python')\n",
    "\tmovies = pd.read_csv('../data/ml-25m/movies.csv', engine='python')\n",
    "\tlinks = pd.read_csv('../data/ml-25m/links.csv', engine='python')\n",
    "\ttags = pd.read_csv('../data/ml-25m/tags.csv', engine='python')\n",
    "\tmovies = movies.join(movies.genres.str.get_dummies().astype(bool))\n",
    "\tmovies.drop('genres', inplace=True, axis=1)\n",
    "\tlogs = ratings.join(movies, on='movieId', how='left', rsuffix='_movie')\n",
    "\treturn logs\n",
    "\n",
    "def preprocess_movie_data_20m(logs, min_number_of_reviews=20000, balanced_classes=False):\n",
    "\tmovies_to_keep = pd.DataFrame(logs.movieId.value_counts())\\\n",
    "\t\t.loc[pd.DataFrame(logs.movieId.value_counts())['movieId']>=min_number_of_reviews].index\n",
    "\tlogs = logs.loc[logs['movieId'].isin(movies_to_keep)]\n",
    "\tif balanced_classes is True:\n",
    "\t\tlogs = logs.groupby('movieId')\n",
    "\t\tlogs = logs.apply(lambda x: x.sample(logs.size().min()).reset_index(drop=True))\n",
    "\tlogs = logs.sample(frac=1)\n",
    "\tlogs['t'] = np.arange(len(logs)) ########## 't'는 학습 과정에서 time step을 나타냄\n",
    "\tlogs.index = logs['t']\n",
    "\tlogs['liked'] = logs['rating'].apply(lambda x: 1 if x >= 4.5 else 0) ####### 평점 4.5 이상을 like 처리 reward (1)\n",
    "\treturn logs\n",
    "\n",
    "def get_ratings_20m(min_number_of_reviews=20000, balanced_classes=False):\n",
    "\tlogs = read_data_20m()\n",
    "\tlogs = preprocess_movie_data_20m(logs, min_number_of_reviews=20000, balanced_classes=balanced_classes)\n",
    "\treturn logs\n"
   ]
  },
  {
   "cell_type": "code",
   "execution_count": 23,
   "metadata": {},
   "outputs": [],
   "source": [
    "def epsilon_greedy_policy(df, arms, epsilon=0.15, slate_size=5, batch_size=50):\n",
    "\n",
    "    if np.random.uniform(0,1) < epsilon or df.shape[0]==0:\n",
    "        return np.random.choice(arms, size=(slate_size), replace=False) ### random 선택\n",
    "    \n",
    "    else:\n",
    "        scores = df[['movieId', 'liked']].groupby('movieId').agg({'liked': ['mean', 'count']})\n",
    "        scores.columns = ['mean', 'count']\n",
    "        scores['movieId'] = scores.index\n",
    "        scores = scores.sort_values('mean', ascending=False) ################### 평균 높은 순으로 정렬\n",
    "        recs = scores.loc[scores.index[0:slate_size], 'movieId'].values   ###### greedy 선택\n",
    "    return recs"
   ]
  },
  {
   "cell_type": "code",
   "execution_count": 25,
   "metadata": {},
   "outputs": [
    {
     "name": "stdout",
     "output_type": "stream",
     "text": [
      "reading movielens 20m data\n",
      "preparing ratings log\n"
     ]
    }
   ],
   "source": [
    "df = get_ratings_20m(min_number_of_reviews=1500, balanced_classes=True) ######## 데이터 불러오기\n"
   ]
  },
  {
   "cell_type": "code",
   "execution_count": 26,
   "metadata": {},
   "outputs": [],
   "source": [
    "history = pd.DataFrame(data=None, columns=df.columns)\n",
    "history = history.astype({'movieId': 'int32', 'liked': 'float'})"
   ]
  },
  {
   "cell_type": "code",
   "execution_count": 27,
   "metadata": {},
   "outputs": [
    {
     "data": {
      "text/plain": [
       "Series([], Name: t, dtype: object)"
      ]
     },
     "execution_count": 27,
     "metadata": {},
     "output_type": "execute_result"
    }
   ],
   "source": [
    "history.t"
   ]
  },
  {
   "cell_type": "code",
   "execution_count": 28,
   "metadata": {},
   "outputs": [
    {
     "name": "stdout",
     "output_type": "stream",
     "text": [
      "0\n",
      "100000\n",
      "200000\n",
      "300000\n",
      "400000\n",
      "500000\n",
      "600000\n",
      "700000\n",
      "800000\n",
      "900000\n",
      "1000000\n",
      "1100000\n",
      "1200000\n",
      "1300000\n",
      "1400000\n",
      "1500000\n",
      "1600000\n",
      "1700000\n",
      "1800000\n",
      "1900000\n",
      "2000000\n",
      "2100000\n",
      "2200000\n",
      "2300000\n",
      "2400000\n",
      "2500000\n",
      "2600000\n",
      "2700000\n",
      "2800000\n",
      "2900000\n",
      "3000000\n",
      "3100000\n",
      "3200000\n",
      "3300000\n",
      "3400000\n",
      "3500000\n",
      "3600000\n",
      "3700000\n",
      "3800000\n",
      "3900000\n",
      "4000000\n"
     ]
    }
   ],
   "source": [
    "epsilon_rewards = [] ###### rewards 초기화\n",
    "max_time = df.shape[0]\n",
    "\n",
    "for t in range(max_time//10000): ### 학습\n",
    "\tt = t * 10000 ####### batch size 설정\n",
    "\tif t % 100000 == 0:\n",
    "\t\tprint(t)\n",
    "\trecs = epsilon_greedy_policy(df=history.loc[history.t<=t,], arms=df.movieId.unique(), epsilon=0.02, slate_size=5, batch_size=10000)\n",
    "\t### time step 10000, 그 안에서 안겹치게 영화 정리-> arm\n",
    "\thistory, action_score = score(history, df, t, 10000, recs)\n",
    "\tif action_score is not None:\n",
    "\t\taction_score = action_score.liked.tolist()\n",
    "\t\tepsilon_rewards.extend(action_score)"
   ]
  },
  {
   "cell_type": "code",
   "execution_count": 29,
   "metadata": {},
   "outputs": [
    {
     "data": {
      "text/plain": [
       "[<matplotlib.lines.Line2D at 0x7fd56d656820>]"
      ]
     },
     "execution_count": 29,
     "metadata": {},
     "output_type": "execute_result"
    },
    {
     "data": {
      "image/png": "[encoded data removed]",
      "text/plain": [
       "<Figure size 432x288 with 1 Axes>"
      ]
     },
     "metadata": {
      "needs_background": "light"
     },
     "output_type": "display_data"
    }
   ],
   "source": [
    "epsilon_greedy_cumulative_avg = np.cumsum(epsilon_rewards) / np.linspace(1, len(epsilon_rewards), len(epsilon_rewards)) ######### epsilon_reward 출력\n",
    "plt.plot(epsilon_greedy_cumulative_avg, label='epsilon')"
   ]
  },
  {
   "cell_type": "code",
   "execution_count": 23,
   "metadata": {},
   "outputs": [
    {
     "data": {
      "text/plain": [
       "100296"
      ]
     },
     "execution_count": 23,
     "metadata": {},
     "output_type": "execute_result"
    }
   ],
   "source": [
    "len(epsilon_rewards)"
   ]
  },
  {
   "cell_type": "code",
   "execution_count": 30,
   "metadata": {},
   "outputs": [],
   "source": [
    "def ucb1_policy(df, t): ######## ucb 알고리즘\n",
    "\n",
    "\tscores = df[['movieId', 'liked']].groupby('movieId').agg({'liked': ['mean', 'count', 'std']})\n",
    "\tscores.columns = ['mean', 'count', 'std']\n",
    "\tscores['ucb'] = scores['mean'] + np.sqrt(((2 * np.log10(t)) /scores['count']))\n",
    "\tscores['movieId'] = scores.index\n",
    "\tscores = scores.sort_values('ucb', ascending=False)\n",
    "\trecs = scores.loc[scores.index[0:5], 'movieId'].values\n",
    "\treturn recs"
   ]
  },
  {
   "cell_type": "code",
   "execution_count": 31,
   "metadata": {},
   "outputs": [],
   "source": [
    "b_history = df.groupby('movieId').first()\n",
    "b_history['movieId'] = b_history.index\n",
    "b_history['t'] = 0\n",
    "b_history.index = b_history['t']\n",
    "b_history['liked'] = 1\n",
    "b_history = b_history[df.columns]\n",
    "b_history2 = b_history.copy()\n",
    "b_history2['liked'] = 0\n",
    "b_history = pd.concat([b_history,b_history,b_history2,b_history2,b_history])\n",
    "b_history['scoring_round'] = 0"
   ]
  },
  {
   "cell_type": "code",
   "execution_count": 32,
   "metadata": {},
   "outputs": [],
   "source": [
    "ucb_rewards = [] ####### ucb 리워드 따로 설정\n",
    "ucb_checkpoints = []\n",
    "max_time = df.shape[0] "
   ]
  },
  {
   "cell_type": "code",
   "execution_count": 33,
   "metadata": {},
   "outputs": [
    {
     "name": "stdout",
     "output_type": "stream",
     "text": [
      "100000\n",
      "200000\n",
      "300000\n",
      "400000\n",
      "500000\n",
      "600000\n",
      "700000\n",
      "800000\n",
      "900000\n",
      "1000000\n",
      "1100000\n",
      "1200000\n",
      "1300000\n",
      "1400000\n",
      "1500000\n",
      "1600000\n",
      "1700000\n",
      "1800000\n",
      "1900000\n",
      "2000000\n",
      "2100000\n",
      "2200000\n",
      "2300000\n",
      "2400000\n",
      "2500000\n",
      "2600000\n",
      "2700000\n",
      "2800000\n",
      "2900000\n",
      "3000000\n",
      "3100000\n",
      "3200000\n",
      "3300000\n",
      "3400000\n",
      "3500000\n",
      "3600000\n",
      "3700000\n",
      "3800000\n",
      "3900000\n",
      "4000000\n"
     ]
    }
   ],
   "source": [
    "for t in range(1, max_time//10000): #df.t:\n",
    "\tt = t * 10000\n",
    "\tif t % 100000 == 0:\n",
    "\t\tprint(t)\n",
    "\trecs = ucb1_policy(df=b_history.loc[b_history.t<=t,], t = t/10000) \n",
    "\tb_history, action_score = score(b_history, df, t, 10000, recs)\n",
    "\tif action_score is not None:\n",
    "\t\taction_score = action_score.liked.tolist()\n",
    "\t\tucb_rewards.extend(action_score)"
   ]
  },
  {
   "cell_type": "code",
   "execution_count": 34,
   "metadata": {},
   "outputs": [
    {
     "data": {
      "text/plain": [
       "[<matplotlib.lines.Line2D at 0x7fd31cdeb8b0>]"
      ]
     },
     "execution_count": 34,
     "metadata": {},
     "output_type": "execute_result"
    },
    {
     "data": {
      "image/png": "[encoded data removed]",
      "text/plain": [
       "<Figure size 1008x720 with 1 Axes>"
      ]
     },
     "metadata": {
      "needs_background": "light"
     },
     "output_type": "display_data"
    }
   ],
   "source": [
    "ucb_cumulative_avg = np.cumsum(ucb_rewards) / np.linspace(1, len(ucb_rewards), len(ucb_rewards))\n",
    "plt.figure(figsize=(14,10))\n",
    "\n",
    "plt.plot(ucb_cumulative_avg, label='epsilon')\n",
    "plt.plot(epsilon_greedy_cumulative_avg, label='epsilon_greedy_cumulative_avg')\n",
    "\n"
   ]
  },
  {
   "cell_type": "code",
   "execution_count": 35,
   "metadata": {},
   "outputs": [],
   "source": [
    "def softmax_exploration(df,arms, Temperature, slate_size=5):\n",
    "\n",
    "\tscores = df[['movieId', 'liked']].groupby('movieId').agg({'liked': ['mean', 'count', 'std']})\n",
    "\tscores.columns = ['mean', 'count', 'std']\n",
    "\tmean_list = scores['mean'].values.tolist()\n",
    "\tdenom = sum(np.exp(mean_list[i]/Temperature) for i in range(len(arms)))\n",
    "\tprobs = [np.exp(mean_list[i]/Temperature)/denom for i in range(len(arms))]\n",
    "\trecs = np.random.choice(arms, size=(slate_size), p=probs)\n",
    "\n",
    "\treturn recs"
   ]
  },
  {
   "cell_type": "code",
   "execution_count": 36,
   "metadata": {},
   "outputs": [],
   "source": [
    "c_history = df.groupby('movieId').first()\n",
    "c_history['movieId'] = c_history.index\n",
    "c_history['t'] = 0\n",
    "c_history.index = c_history['t']\n",
    "c_history['liked'] = 1\n",
    "c_history = c_history[df.columns] \n",
    "c_history2 = c_history.copy()\n",
    "c_history2['liked'] = 0\n",
    "c_history = pd.concat([c_history,c_history,c_history2,c_history2,c_history])\n",
    "c_history['scoring_round'] = 0"
   ]
  },
  {
   "cell_type": "code",
   "execution_count": 37,
   "metadata": {},
   "outputs": [],
   "source": [
    "softmax_history = pd.DataFrame(data=None, columns = ['mean', 'count', 'std', 'ucb', 'movieId', 'iter']) \n",
    "softmax_rewards = []\n",
    "softmax_checkpoints = []\n",
    "max_time = df.shape[0]"
   ]
  },
  {
   "cell_type": "code",
   "execution_count": 38,
   "metadata": {},
   "outputs": [
    {
     "name": "stdout",
     "output_type": "stream",
     "text": [
      "100000\n",
      "200000\n",
      "300000\n",
      "400000\n",
      "500000\n",
      "600000\n",
      "700000\n",
      "800000\n",
      "900000\n",
      "1000000\n",
      "1100000\n",
      "1200000\n",
      "1300000\n",
      "1400000\n",
      "1500000\n",
      "1600000\n",
      "1700000\n",
      "1800000\n",
      "1900000\n",
      "2000000\n",
      "2100000\n",
      "2200000\n",
      "2300000\n",
      "2400000\n",
      "2500000\n",
      "2600000\n",
      "2700000\n",
      "2800000\n",
      "2900000\n",
      "3000000\n",
      "3100000\n",
      "3200000\n",
      "3300000\n",
      "3400000\n",
      "3500000\n",
      "3600000\n",
      "3700000\n",
      "3800000\n",
      "3900000\n",
      "4000000\n"
     ]
    }
   ],
   "source": [
    "for t in range(1, max_time//10000): #df.t:\n",
    "\tt = t * 10000\n",
    "\tif t % 100000 == 0:\n",
    "\n",
    "\t\tprint(t)\n",
    "\ttemp = 50\n",
    "\trecs = softmax_exploration(df=c_history.loc[c_history.t<=t,],arms=df.movieId.unique(),Temperature=temp,slate_size=5) \n",
    "\ttemp = temp * 0.5\n",
    "\tc_history, action_score = score(c_history, df, t, 10000, recs)\n",
    "\tif action_score is not None:\n",
    "\t\taction_score = action_score.liked.tolist()\n",
    "\t\tsoftmax_rewards.extend(action_score)"
   ]
  },
  {
   "cell_type": "code",
   "execution_count": 39,
   "metadata": {},
   "outputs": [
    {
     "data": {
      "text/plain": [
       "[<matplotlib.lines.Line2D at 0x7fd31cdf3af0>]"
      ]
     },
     "execution_count": 39,
     "metadata": {},
     "output_type": "execute_result"
    },
    {
     "data": {
      "image/png": "[encoded data removed]",
      "text/plain": [
       "<Figure size 432x288 with 1 Axes>"
      ]
     },
     "metadata": {
      "needs_background": "light"
     },
     "output_type": "display_data"
    }
   ],
   "source": [
    "softmax_cumulative_avg = np.cumsum(softmax_rewards) / np.linspace(1, len(softmax_rewards), len(softmax_rewards))\n",
    "plt.plot(softmax_cumulative_avg, label='epsilon')"
   ]
  },
  {
   "cell_type": "code",
   "execution_count": null,
   "metadata": {},
   "outputs": [],
   "source": [
    "\n",
    "def Thomson_sampling(a,b,beta_val,df,slate_size=5):\n",
    "\n",
    "\tscores = df[['movieId', 'liked']].groupby('movieId').agg({'liked': ['mean', 'count', 'std']})\n",
    "\tscores.columns = ['mean', 'count', 'std']\n",
    "\tscores['movieId'] = scores.index\n",
    "\n",
    "\tfor i in range(len(scores)):\n",
    "\t\tbeta_val[i] = np.random.beta(a[i],b[i])\n",
    "\t\tscores['beta_val'] = beta_val[i]\n",
    "\n",
    "\tscores = scores.sort_values('beta_val', ascending=False)\n",
    "\trecs = scores.loc[scores.index[0:slate_size], 'movieId'].values\n",
    "\n",
    "\treturn recs"
   ]
  },
  {
   "cell_type": "code",
   "execution_count": null,
   "metadata": {},
   "outputs": [],
   "source": [
    "total_movie = len(df.movieId.unique())\n",
    "a = np.ones(total_movie)\n",
    "b = np.ones(total_movie)\n",
    " \n",
    "for t in range(1, max_time//10000):\n",
    "\tt = t * 10000\n",
    "\tbeta_val = np.ones(total_movie)\n",
    "\tif t % 100000 == 0:\n",
    "\t\tprint(t)\n",
    "\t\n",
    "\trecs = Thomson_sampling(a,b,beta_val,df=c_history.loc[c_history.t<=t,],Temperature=temp,slate_size=5) \n",
    "\tc_history, action_score = score(c_history, df, t, 10000, recs)\n",
    "\tif action_score is not None:\n",
    "\t\taction_score = action_score.liked.tolist()\n",
    "\t\tfor i in range(len(action_score)):\n",
    "\t\t\tif action_score[i] == 1:\n",
    "\t\t\t\ta[i] +=1\n",
    "\t\t\telse:\n",
    "\t\t\t\tb[i] +=1\n",
    "\t\t\t\t\t\t\n",
    "\t\tsoftmax_rewards.extend(action_score)"
   ]
  }
 ],
 "metadata": {
  "kernelspec": {
   "display_name": "base",
   "language": "python",
   "name": "python3"
  },
  "language_info": {
   "codemirror_mode": {
    "name": "ipython",
    "version": 3
   },
   "file_extension": ".py",
   "mimetype": "text/x-python",
   "name": "python",
   "nbconvert_exporter": "python",
   "pygments_lexer": "ipython3",
   "version": "3.9.5"
  },
  "orig_nbformat": 4,
  "vscode": {
   "interpreter": {
    "hash": "4bdbeb7dff0559feb0e32692563d8542b9a02288b21a509b17e782e956529574"
   }
  }
 },
 "nbformat": 4,
 "nbformat_minor": 2
}
